{
 "cells": [
  {
   "cell_type": "markdown",
   "id": "1583cee0",
   "metadata": {},
   "source": [
    "# Submission\n",
    "\n",
    "This notebook submits using the provided API script."
   ]
  },
  {
   "cell_type": "code",
   "execution_count": 1,
   "id": "eab62154",
   "metadata": {},
   "outputs": [
    {
     "name": "stdout",
     "output_type": "stream",
     "text": [
      "<Response [201]>\n",
      "[{'id': 428, 'status': 'uploaded', 'f1_score': None, 'accuracy_score': None, 'precision_score': None, 'recall_score': None}, {'id': 419, 'status': 'in_progress', 'f1_score': None, 'accuracy_score': None, 'precision_score': None, 'recall_score': None}, {'id': 393, 'status': 'failed', 'f1_score': None, 'accuracy_score': None, 'precision_score': None, 'recall_score': None}, {'id': 386, 'status': 'failed', 'f1_score': None, 'accuracy_score': None, 'precision_score': None, 'recall_score': None}, {'id': 372, 'status': 'failed', 'f1_score': None, 'accuracy_score': None, 'precision_score': None, 'recall_score': None}, {'id': 195, 'status': 'failed', 'f1_score': None, 'accuracy_score': None, 'precision_score': None, 'recall_score': None}, {'id': 194, 'status': 'failed', 'f1_score': None, 'accuracy_score': None, 'precision_score': None, 'recall_score': None}]\n"
     ]
    }
   ],
   "source": [
    "from api import Hack4MedAPI\n",
    "\n",
    "hack4med = Hack4MedAPI('989310882413')\n",
    "\n",
    "resp = hack4med.validate_model('epam_e2e.py', 'bayes_1.zip')\n",
    "\n",
    "print(resp)\n",
    "\n",
    "print(hack4med.results())"
   ]
  },
  {
   "cell_type": "code",
   "execution_count": 13,
   "id": "071a9593",
   "metadata": {},
   "outputs": [
    {
     "name": "stdout",
     "output_type": "stream",
     "text": [
      "[{'id': 428, 'status': 'failed', 'f1_score': None, 'accuracy_score': None, 'precision_score': None, 'recall_score': None}, {'id': 419, 'status': 'in_progress', 'f1_score': None, 'accuracy_score': None, 'precision_score': None, 'recall_score': None}, {'id': 393, 'status': 'failed', 'f1_score': None, 'accuracy_score': None, 'precision_score': None, 'recall_score': None}, {'id': 386, 'status': 'failed', 'f1_score': None, 'accuracy_score': None, 'precision_score': None, 'recall_score': None}, {'id': 372, 'status': 'failed', 'f1_score': None, 'accuracy_score': None, 'precision_score': None, 'recall_score': None}, {'id': 195, 'status': 'failed', 'f1_score': None, 'accuracy_score': None, 'precision_score': None, 'recall_score': None}, {'id': 194, 'status': 'failed', 'f1_score': None, 'accuracy_score': None, 'precision_score': None, 'recall_score': None}]\n"
     ]
    }
   ],
   "source": [
    "print(hack4med.results())"
   ]
  },
  {
   "cell_type": "code",
   "execution_count": null,
   "id": "a8d7a919",
   "metadata": {},
   "outputs": [],
   "source": []
  }
 ],
 "metadata": {
  "kernelspec": {
   "display_name": "conda_am-env",
   "language": "python",
   "name": "conda_am-env"
  },
  "language_info": {
   "codemirror_mode": {
    "name": "ipython",
    "version": 3
   },
   "file_extension": ".py",
   "mimetype": "text/x-python",
   "name": "python",
   "nbconvert_exporter": "python",
   "pygments_lexer": "ipython3",
   "version": "3.8.12"
  }
 },
 "nbformat": 4,
 "nbformat_minor": 5
}
